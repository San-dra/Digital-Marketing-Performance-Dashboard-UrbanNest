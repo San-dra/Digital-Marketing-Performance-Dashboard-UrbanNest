{
  "nbformat": 4,
  "nbformat_minor": 0,
  "metadata": {
    "colab": {
      "provenance": [],
      "authorship_tag": "ABX9TyN7dW0De4lKszuSMj9q5QcL",
      "include_colab_link": true
    },
    "kernelspec": {
      "name": "python3",
      "display_name": "Python 3"
    },
    "language_info": {
      "name": "python"
    }
  },
  "cells": [
    {
      "cell_type": "markdown",
      "metadata": {
        "id": "view-in-github",
        "colab_type": "text"
      },
      "source": [
        "<a href=\"https://colab.research.google.com/github/San-dra/Digital-Marketing-Performance-Dashboard-UrbanNest/blob/main/04_backfill_facebook_paid.ipynb\" target=\"_parent\"><img src=\"https://colab.research.google.com/assets/colab-badge.svg\" alt=\"Open In Colab\"/></a>"
      ]
    },
    {
      "cell_type": "code",
      "source": [
        "# Backfill Facebook Paid Ads Data (2022 to Today)\n",
        "import pandas as pd\n",
        "import numpy as np\n",
        "import random\n",
        "from datetime import datetime, timedelta\n",
        "\n",
        "from google.auth import default\n",
        "from googleapiclient.discovery import build\n",
        "import gspread\n",
        "import gspread_dataframe as gd\n",
        "from google.colab import auth, userdata"
      ],
      "metadata": {
        "id": "RvXNG-iPDba3"
      },
      "execution_count": null,
      "outputs": []
    },
    {
      "cell_type": "code",
      "source": [
        "# Authenticate\n",
        "auth.authenticate_user()\n",
        "creds, _ = default()\n",
        "gc = gspread.authorize(creds)\n",
        "drive_service = build('drive', 'v3')"
      ],
      "metadata": {
        "id": "k3NAdIP7DgHW"
      },
      "execution_count": null,
      "outputs": []
    },
    {
      "cell_type": "code",
      "source": [
        "# SETTINGS\n",
        "start_date = datetime(2022, 1, 1)\n",
        "end_date = datetime.today()\n",
        "folder_id = userdata.get('FACEBOOK_DATA_FOLDER')\n",
        "file_name = f\"facebook_paid_all_time_{datetime.today().strftime('%Y%m%d')}\"\n",
        "\n"
      ],
      "metadata": {
        "id": "8-JLa59NDwB3"
      },
      "execution_count": null,
      "outputs": []
    },
    {
      "cell_type": "code",
      "source": [
        "# Load Campaigns Sheet\n",
        "campaigns_spreadsheet = gc.open_by_key(userdata.get('CAMPAIGNS_SHEET_ID'))\n",
        "df_campaigns = gd.get_as_dataframe(campaigns_spreadsheet.sheet1).dropna()"
      ],
      "metadata": {
        "id": "NGMXl2RAD3a2"
      },
      "execution_count": null,
      "outputs": []
    },
    {
      "cell_type": "code",
      "source": [
        "# Function: Get active campaigns on a given day\n",
        "def find_active_campaigns(date):\n",
        "    return [camp for _, camp in df_campaigns.iterrows() if pd.to_datetime(camp['start_date']) <= date <= pd.to_datetime(camp['end_date'])]\n",
        "\n"
      ],
      "metadata": {
        "id": "QFVNxibDD5Q2"
      },
      "execution_count": null,
      "outputs": []
    },
    {
      "cell_type": "code",
      "source": [
        "# Weights\n",
        "country_weights = (\n",
        "    ['Germany']*20 + ['France']*18 + ['Italy']*15 + ['Spain']*15 + ['Netherlands']*8 + ['Poland']*8 +\n",
        "    ['Sweden']*5 + ['Ireland']*5 + ['Denmark']*4 + ['Belgium']*4 + ['Austria']*3 + ['Finland']*3 +\n",
        "    ['Portugal']*3 + ['Czech Republic']*3 + ['Greece']*2 + ['Hungary']*2 + ['Romania']*2 +\n",
        "    ['Bulgaria']*1 + ['Croatia']*1 + ['Cyprus']*1 + ['Estonia']*1 + ['Latvia']*1 + ['Lithuania']*1 +\n",
        "    ['Luxembourg']*1 + ['Malta']*1 + ['Slovakia']*1 + ['Slovenia']*1\n",
        ")\n",
        "\n",
        "age_weights = ['18-24']*15 + ['25-34']*40 + ['35-44']*30 + ['45-54']*15\n",
        "gender_weights = ['female']*60 + ['male']*38 + ['other']*2\n",
        "device_weights = ['mobile']*60 + ['desktop']*35 + ['tablet']*5\n",
        "\n",
        "ad_names = [\"Spring Refresh\", \"Smart Storage\", \"Cozy Corners\", \"Scandi Style\", \"Balcony Ready\", \"Back Support Deals\"]\n",
        "\n"
      ],
      "metadata": {
        "id": "bdnY-VwDD6k0"
      },
      "execution_count": null,
      "outputs": []
    },
    {
      "cell_type": "code",
      "execution_count": null,
      "metadata": {
        "id": "wY_4KFBeDTrc"
      },
      "outputs": [],
      "source": [
        "all_rows = []\n",
        "current_date = start_date\n",
        "\n",
        "while current_date <= end_date:\n",
        "    active_campaigns = find_active_campaigns(current_date)\n",
        "\n",
        "    for camp in active_campaigns:\n",
        "        for _ in range(random.randint(2, 4)):\n",
        "            country = random.choice(country_weights)\n",
        "            ad_name = random.choice(ad_names)\n",
        "\n",
        "            # Apply uplift for standout ads\n",
        "            if ad_name in [\"Smart Storage\", \"Scandi Style\"]:\n",
        "                impression_range = (5000, 15000)\n",
        "                click_multiplier = (0.08, 0.12)\n",
        "                spend_range = (150, 400)\n",
        "                revenue_factor = (150, 300)\n",
        "            else:\n",
        "                impression_range = (1000, 10000)\n",
        "                click_multiplier = (0.04, 0.08)\n",
        "                spend_range = (50, 300)\n",
        "                revenue_factor = (40, 250)\n",
        "\n",
        "            impressions = random.randint(*impression_range)\n",
        "            clicks = random.randint(20, int(impressions * random.uniform(*click_multiplier)))\n",
        "            spend = round(random.uniform(*spend_range), 2)\n",
        "            conversions = random.randint(0, int(clicks * 0.25))\n",
        "            revenue = round(conversions * random.uniform(*revenue_factor), 2)\n",
        "            ctr = round((clicks / impressions) * 100, 2)\n",
        "\n",
        "            all_rows.append({\n",
        "                'ad_id': f\"fbp_{random.randint(100000,999999)}\",\n",
        "                'campaign_id': camp['campaign_id'],\n",
        "                'ad_name': ad_name,\n",
        "                'country': country,\n",
        "                'age_group': random.choice(age_weights),\n",
        "                'gender': random.choice(gender_weights),\n",
        "                'device_category': random.choice(device_weights),\n",
        "                'impressions': impressions,\n",
        "                'clicks': clicks,\n",
        "                'ctr_percent': ctr,\n",
        "                'spend_usd': spend,\n",
        "                'conversions': conversions,\n",
        "                'revenue_usd': revenue,\n",
        "                'date': current_date.strftime('%Y-%m-%d')\n",
        "            })\n",
        "\n",
        "    current_date += timedelta(days=1)"
      ]
    },
    {
      "cell_type": "code",
      "source": [
        "# Upload to Google Sheets\n",
        "df_all = pd.DataFrame(all_rows)\n",
        "\n",
        "new_sheet = gc.create(file_name)\n",
        "drive_service.files().update(\n",
        "    fileId=new_sheet.id,\n",
        "    addParents=folder_id,\n",
        "    removeParents='root',\n",
        "    fields='id, parents'\n",
        ").execute()\n",
        "worksheet = new_sheet.sheet1\n",
        "gd.set_with_dataframe(worksheet, df_all)\n",
        "print(f\"Created new file '{file_name}' with {len(df_all)} rows.\")"
      ],
      "metadata": {
        "colab": {
          "base_uri": "https://localhost:8080/"
        },
        "id": "wLigq6RvFxFh",
        "outputId": "fccbd9c3-0127-4a5f-d1a7-cc0dcb216675"
      },
      "execution_count": null,
      "outputs": [
        {
          "output_type": "stream",
          "name": "stdout",
          "text": [
            "Created new file 'facebook_paid_all_time_20250430' with 2032 rows.\n"
          ]
        }
      ]
    }
  ]
}