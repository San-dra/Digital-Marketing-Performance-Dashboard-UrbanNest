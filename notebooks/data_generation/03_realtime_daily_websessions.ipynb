{
  "nbformat": 4,
  "nbformat_minor": 0,
  "metadata": {
    "colab": {
      "provenance": [],
      "toc_visible": true,
      "authorship_tag": "ABX9TyMk5JLzYQ+9OK51IoBrEO1m",
      "include_colab_link": true
    },
    "kernelspec": {
      "name": "python3",
      "display_name": "Python 3"
    },
    "language_info": {
      "name": "python"
    }
  },
  "cells": [
    {
      "cell_type": "markdown",
      "metadata": {
        "id": "view-in-github",
        "colab_type": "text"
      },
      "source": [
        "<a href=\"https://colab.research.google.com/github/San-dra/Digital-Marketing-Performance-Dashboard-UrbanNest/blob/main/03_realtime_daily_websessions.ipynb\" target=\"_parent\"><img src=\"https://colab.research.google.com/assets/colab-badge.svg\" alt=\"Open In Colab\"/></a>"
      ]
    },
    {
      "cell_type": "code",
      "execution_count": null,
      "metadata": {
        "id": "rEXDL_MA8CE0"
      },
      "outputs": [],
      "source": [
        "# --- Real-time Session Simulator: Daily Append, or Create New File and Append ---\n",
        "import pandas as pd\n",
        "import numpy as np\n",
        "import random\n",
        "from datetime import datetime\n",
        "\n",
        "from google.auth import default\n",
        "from googleapiclient.discovery import build\n",
        "import gspread\n",
        "import gspread_dataframe as gd\n",
        "from google.colab import auth, userdata"
      ]
    },
    {
      "cell_type": "code",
      "source": [
        "auth.authenticate_user()\n",
        "creds, _ = default()\n",
        "gc = gspread.authorize(creds)\n",
        "drive_service = build('drive', 'v3')"
      ],
      "metadata": {
        "id": "vxf9bK7SiGrh"
      },
      "execution_count": null,
      "outputs": []
    },
    {
      "cell_type": "code",
      "source": [
        "# --- SETTINGS ---\n",
        "today = datetime.today()\n",
        "current_date_str = today.strftime('%Y-%m-%d')\n",
        "month_year = today.strftime('%b_%Y')\n",
        "file_name = f\"sessions_{month_year}\"\n",
        "folder_id = userdata.get('WEB_SESSIONS_DATA_FOLDER')\n",
        "current_month_year = today.strftime('%b_%Y')  # e.g., Apr_2025\n",
        "\n",
        "# Load Campaigns Sheet\n",
        "campaigns_spreadsheet = gc.open_by_key(userdata.get('CAMPAIGNS_SHEET_ID'))\n",
        "df_campaigns = gd.get_as_dataframe(campaigns_spreadsheet.sheet1).dropna()\n",
        "\n",
        "# --- Find active campaign for a country ---\n",
        "def find_campaign_id(date, country):\n",
        "    eligible_campaigns = []\n",
        "    for _, camp in df_campaigns.iterrows():\n",
        "        if pd.to_datetime(camp['start_date']) <= date <= pd.to_datetime(camp['end_date']):\n",
        "            if camp['target_countries'] == 'All' or country in camp['target_countries']:\n",
        "                eligible_campaigns.append(camp['campaign_id'])\n",
        "    return random.choice(eligible_campaigns) if eligible_campaigns else 'None'"
      ],
      "metadata": {
        "id": "DY5J_PQ9jVt8"
      },
      "execution_count": null,
      "outputs": []
    },
    {
      "cell_type": "code",
      "source": [
        "# --- Weighted Options ---\n",
        "device_weights = ['mobile']*60 + ['desktop']*35 + ['tablet']*5\n",
        "age_weights = ['18-24']*15 + ['25-34']*40 + ['35-44']*30 + ['45-54']*15\n",
        "gender_weights = ['female']*60 + ['male']*38 + ['other']*2\n",
        "\n",
        "country_weights = (\n",
        "    ['Germany']*20 + ['France']*18 + ['Italy']*15 + ['Spain']*15 +\n",
        "    ['Netherlands']*8 + ['Poland']*8 + ['Sweden']*5 + ['Ireland']*5 +\n",
        "    ['Denmark']*4 + ['Belgium']*4 + ['Austria']*3 + ['Finland']*3 +\n",
        "    ['Portugal']*3 + ['Czech Republic']*3 + ['Greece']*2 + ['Hungary']*2 +\n",
        "    ['Romania']*2 + ['Bulgaria']*1 + ['Croatia']*1 + ['Cyprus']*1 + ['Estonia']*1 +\n",
        "    ['Latvia']*1 + ['Lithuania']*1 + ['Luxembourg']*1 + ['Malta']*1 + ['Slovakia']*1 + ['Slovenia']*1\n",
        ")\n",
        "\n",
        "uplift = {'normal': (1.0, 1.2), 'campaign': (1.3, 2.0)}"
      ],
      "metadata": {
        "id": "2SMMxWldi8xq"
      },
      "execution_count": null,
      "outputs": []
    },
    {
      "cell_type": "code",
      "source": [
        "# --- Generate today's session data ---\n",
        "rows = []\n",
        "base_sessions = random.randint(450, 650)\n",
        "for _ in range(int(base_sessions * random.uniform(1.0, 1.3))):\n",
        "    country = random.choice(country_weights)\n",
        "    camp_id = find_campaign_id(today, country)\n",
        "    factor = random.uniform(*uplift['campaign' if camp_id != 'None' else 'normal'])\n",
        "\n",
        "    rows.append({\n",
        "        'session_id': f\"sess_{random.randint(1000000,9999999)}\",\n",
        "        'user_id': f\"user_{random.randint(10000,99999)}\",\n",
        "        'session_date': current_date_str,\n",
        "        'source_medium': random.choice([\n",
        "            'google/organic', 'facebook/organic', 'facebook/paid',\n",
        "            'instagram/organic', 'instagram/paid', 'email/direct',\n",
        "            'direct/none', 'referral/other', 'tiktok/organic', 'youtube/organic']\n",
        "        ),\n",
        "        'campaign_id': camp_id,\n",
        "        'device_category': random.choice(device_weights),\n",
        "        'country': country,\n",
        "        'age_group': random.choice(age_weights),\n",
        "        'gender': random.choice(gender_weights),\n",
        "        'sessions': 1,\n",
        "        'pageviews': random.randint(1, 10),\n",
        "        'bounce': random.choice([True, False]),\n",
        "        'session_duration_seconds': random.randint(30, 600),\n",
        "        'goal_completion': random.choice([0, 1]),\n",
        "        'transaction_revenue': round(random.uniform(25.0, 300.0), 2) if random.random() < 0.2 else 0\n",
        "    })\n",
        "\n",
        "df_today = pd.DataFrame(rows)"
      ],
      "metadata": {
        "id": "bm3-tXA6ivuN"
      },
      "execution_count": null,
      "outputs": []
    },
    {
      "cell_type": "code",
      "source": [
        "\n",
        "\n",
        "# --- Search all existing session files ---\n",
        "query = f\"'{folder_id}' in parents and name contains 'sessions' and mimeType = 'application/vnd.google-apps.spreadsheet'\"\n",
        "results = drive_service.files().list(q=query, fields=\"files(id, name)\").execute()\n",
        "files = results.get('files', [])\n",
        "\n",
        "# --- Search if a file for the current month exists ---\n",
        "target_file = None\n",
        "existing_numbers = []\n",
        "\n",
        "for file in files:\n",
        "    name = file['name']\n",
        "    if current_month_year in name:\n",
        "        target_file = file\n",
        "    # Extract number prefix (e.g., '040' from '040_sessions_Apr_2025')\n",
        "    prefix = name.split('_')[0]\n",
        "    if prefix.isdigit():\n",
        "        existing_numbers.append(int(prefix))"
      ],
      "metadata": {
        "id": "xbWKbH2Ei0Yg"
      },
      "execution_count": null,
      "outputs": []
    },
    {
      "cell_type": "code",
      "source": [
        "# --- Decide what to do ---\n",
        "if target_file:\n",
        "    # Append to existing file\n",
        "    sheet = gc.open_by_key(target_file['id'])\n",
        "    worksheet = sheet.sheet1\n",
        "    existing_df = gd.get_as_dataframe(worksheet).dropna(how='all')\n",
        "    combined_df = pd.concat([existing_df, df_today], ignore_index=True)\n",
        "    worksheet.clear()\n",
        "    gd.set_with_dataframe(worksheet, combined_df)\n",
        "    print(f\"Appended today's data to {target_file['name']}\")\n",
        "else:\n",
        "    # Create new file with next number\n",
        "    next_number = max(existing_numbers) + 1 if existing_numbers else 1\n",
        "    new_file_name = f\"{next_number:03d}_sessions_{current_month_year}\"\n",
        "    new_sheet = gc.create(new_file_name)\n",
        "    worksheet = new_sheet.sheet1\n",
        "    gd.set_with_dataframe(worksheet, df_today)\n",
        "\n",
        "    drive_service.files().update(\n",
        "        fileId=new_sheet.id,\n",
        "        addParents=folder_id,\n",
        "        removeParents='root',\n",
        "        fields='id, parents'\n",
        "    ).execute()\n",
        "\n",
        "    print(f\"Created new file {new_file_name} and added today's data.\")"
      ],
      "metadata": {
        "colab": {
          "base_uri": "https://localhost:8080/"
        },
        "id": "ixX0nH3oiU_N",
        "outputId": "9902b903-0dd9-4ce2-bdd0-813680c55523"
      },
      "execution_count": null,
      "outputs": [
        {
          "output_type": "stream",
          "name": "stdout",
          "text": [
            "Appended today's data to 040_sessions_Apr_2025\n"
          ]
        }
      ]
    }
  ]
}